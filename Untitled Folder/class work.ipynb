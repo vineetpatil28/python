{
 "cells": [
  {
   "cell_type": "code",
   "execution_count": 13,
   "metadata": {},
   "outputs": [
    {
     "name": "stdout",
     "output_type": "stream",
     "text": [
      "value of c hi\n"
     ]
    },
    {
     "ename": "TypeError",
     "evalue": "'str' object is not callable",
     "output_type": "error",
     "traceback": [
      "\u001b[1;31m---------------------------------------------------------------------------\u001b[0m",
      "\u001b[1;31mTypeError\u001b[0m                                 Traceback (most recent call last)",
      "\u001b[1;32m<ipython-input-13-d6f7d3895370>\u001b[0m in \u001b[0;36m<module>\u001b[1;34m\u001b[0m\n\u001b[0;32m      4\u001b[0m \u001b[0mval\u001b[0m \u001b[1;33m=\u001b[0m \u001b[1;36m3.147\u001b[0m\u001b[1;33m\u001b[0m\u001b[1;33m\u001b[0m\u001b[0m\n\u001b[0;32m      5\u001b[0m \u001b[0mprint\u001b[0m\u001b[1;33m(\u001b[0m\u001b[1;34m\"value of c \"\u001b[0m\u001b[1;33m+\u001b[0m\u001b[0mc\u001b[0m\u001b[1;33m)\u001b[0m      \u001b[1;31m#+c in concatination(joining of two string)\u001b[0m\u001b[1;33m\u001b[0m\u001b[1;33m\u001b[0m\u001b[0m\n\u001b[1;32m----> 6\u001b[1;33m \u001b[0mprint\u001b[0m\u001b[1;33m(\u001b[0m\u001b[1;34m\"value of a \"\u001b[0m\u001b[1;33m+\u001b[0m\u001b[0mstr\u001b[0m\u001b[1;33m(\u001b[0m\u001b[0ma\u001b[0m\u001b[1;33m)\u001b[0m\u001b[1;33m)\u001b[0m \u001b[1;31m#  concatination is also happane in string only not integer.\u001b[0m\u001b[1;33m\u001b[0m\u001b[1;33m\u001b[0m\u001b[0m\n\u001b[0m\u001b[0;32m      7\u001b[0m \u001b[0ma\u001b[0m\u001b[1;33m,\u001b[0m \u001b[0mb\u001b[0m\u001b[1;33m,\u001b[0m \u001b[0mc\u001b[0m \u001b[1;33m=\u001b[0m \u001b[1;36m1\u001b[0m\u001b[1;33m,\u001b[0m \u001b[1;36m2.2\u001b[0m\u001b[1;33m,\u001b[0m \u001b[1;34m\"hellow\"\u001b[0m\u001b[1;33m\u001b[0m\u001b[1;33m\u001b[0m\u001b[0m\n\u001b[0;32m      8\u001b[0m \u001b[0mprint\u001b[0m\u001b[1;33m(\u001b[0m\u001b[0ma\u001b[0m\u001b[1;33m,\u001b[0m \u001b[0mb\u001b[0m\u001b[1;33m,\u001b[0m \u001b[0mc\u001b[0m\u001b[1;33m)\u001b[0m\u001b[1;33m\u001b[0m\u001b[1;33m\u001b[0m\u001b[0m\n",
      "\u001b[1;31mTypeError\u001b[0m: 'str' object is not callable"
     ]
    }
   ],
   "source": [
    "a = 100\n",
    "b = 125.46\n",
    "c = \"hi\"\n",
    "val = 3.147\n",
    "print(\"value of c \"+c)      #+c in concatination(joining of two string)\n",
    "print(\"value of a \"+str(a)) #  concatination is also happane in string only not integer.\n",
    "a, b, c = 1, 2.2, \"hellow\"\n",
    "print(a, b, c)"
   ]
  },
  {
   "cell_type": "code",
   "execution_count": 4,
   "metadata": {},
   "outputs": [
    {
     "name": "stdout",
     "output_type": "stream",
     "text": [
      "no 85.0\n"
     ]
    }
   ],
   "source": [
    "grade=80\n",
    "grade1=90\n",
    "avg=(grade+grade1)/2\n",
    "print(\"no\",avg)"
   ]
  },
  {
   "cell_type": "code",
   "execution_count": 2,
   "metadata": {},
   "outputs": [
    {
     "data": {
      "text/plain": [
       "3"
      ]
     },
     "execution_count": 2,
     "metadata": {},
     "output_type": "execute_result"
    }
   ],
   "source": [
    "3*1**3"
   ]
  },
  {
   "cell_type": "code",
   "execution_count": 1,
   "metadata": {},
   "outputs": [
    {
     "name": "stdout",
     "output_type": "stream",
     "text": [
      "10\n",
      "inside class method\n"
     ]
    }
   ],
   "source": [
    "class abc:\n",
    "    var = 10\n",
    "    def fun1(self):\n",
    "        print(\"inside class method\")\n",
    "obj1=abc()\n",
    "print(obj1.var)\n",
    "obj1.fun1()"
   ]
  },
  {
   "cell_type": "code",
   "execution_count": 5,
   "metadata": {},
   "outputs": [
    {
     "name": "stdout",
     "output_type": "stream",
     "text": [
      "inside class method\n",
      "The value of val is 12\n",
      "The value of self.val is 12\n"
     ]
    }
   ],
   "source": [
    "class pqr:\n",
    "    def __init__(self,val):\n",
    "        print(\"inside class method\")\n",
    "        self.val=val\n",
    "        print(\"The value of val is\",val)\n",
    "        print(\"The value of self.val is\",self.val)\n",
    "obj1 = pqr(12)\n"
   ]
  },
  {
   "cell_type": "code",
   "execution_count": 6,
   "metadata": {},
   "outputs": [
    {
     "name": "stdout",
     "output_type": "stream",
     "text": [
      "The value of val is 100\n",
      "The value of self.val is 1\n",
      "The value of val is 200\n",
      "The value of self.val is 2\n",
      "The value of val is 300\n",
      "The value of self.val is 3\n",
      "The value of val is 400\n",
      "The value of self.val is 4\n"
     ]
    }
   ],
   "source": [
    "class xyz:\n",
    "    class_var=0\n",
    "    def __init__(self,var):\n",
    "        xyz.class_var+=1\n",
    "        self.var=var\n",
    "        print(\"The value of obj is\",self.var)\n",
    "        print(\"The value of self.val is\",xyz.class_var)\n",
    "obj1 = xyz(100)\n",
    "obj2 = xyz(200)\n",
    "obj3 = xyz(300)\n",
    "obj4 = xyz(400)"
   ]
  },
  {
   "cell_type": "code",
   "execution_count": null,
   "metadata": {},
   "outputs": [],
   "source": []
  }
 ],
 "metadata": {
  "kernelspec": {
   "display_name": "Python 3",
   "language": "python",
   "name": "python3"
  },
  "language_info": {
   "codemirror_mode": {
    "name": "ipython",
    "version": 3
   },
   "file_extension": ".py",
   "mimetype": "text/x-python",
   "name": "python",
   "nbconvert_exporter": "python",
   "pygments_lexer": "ipython3",
   "version": "3.8.5"
  }
 },
 "nbformat": 4,
 "nbformat_minor": 4
}
