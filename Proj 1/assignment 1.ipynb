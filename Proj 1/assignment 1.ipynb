{
 "cells": [
  {
   "cell_type": "code",
   "execution_count": 4,
   "metadata": {},
   "outputs": [
    {
     "name": "stdout",
     "output_type": "stream",
     "text": [
      "Enter your basic pay: 100\n",
      "HRA: 10.0\n",
      "TA: 5.0\n",
      "Salary Payable is 112.7\n"
     ]
    }
   ],
   "source": [
    "basic_pay = input(\"Enter your basic pay: \") \n",
    "try:\n",
    " basic_pay = float(basic_pay)\n",
    " if basic_pay<0:      \n",
    "  print(\"Basic pay can't be negative.\")\n",
    "\n",
    " hra = basic_pay*0.1\n",
    " print(\"HRA:\",hra)\n",
    " ta = basic_pay*0.05   \n",
    " print(\"TA:\",ta)\n",
    " total_salary = basic_pay + hra + ta   \n",
    " professional_tax = total_salary*0.02 \n",
    " salary_payable = total_salary - professional_tax\n",
    " print(\"Salary Payable is\",salary_payable)  \n",
    "except ValueError:\n",
    " print(\"Enter amount in digits.\")"
   ]
  },
  {
   "cell_type": "code",
   "execution_count": 5,
   "metadata": {},
   "outputs": [
    {
     "ename": "ValueError",
     "evalue": "could not convert string to float: 'hi'",
     "output_type": "error",
     "traceback": [
      "\u001b[1;31m---------------------------------------------------------------------------\u001b[0m",
      "\u001b[1;31mValueError\u001b[0m                                Traceback (most recent call last)",
      "\u001b[1;32m<ipython-input-5-e80d283b5a12>\u001b[0m in \u001b[0;36m<module>\u001b[1;34m\u001b[0m\n\u001b[1;32m----> 1\u001b[1;33m \u001b[0mfloat\u001b[0m\u001b[1;33m(\u001b[0m\u001b[1;34m\"hi\"\u001b[0m\u001b[1;33m)\u001b[0m\u001b[1;33m\u001b[0m\u001b[1;33m\u001b[0m\u001b[0m\n\u001b[0m",
      "\u001b[1;31mValueError\u001b[0m: could not convert string to float: 'hi'"
     ]
    }
   ],
   "source": []
  },
  {
   "cell_type": "code",
   "execution_count": null,
   "metadata": {},
   "outputs": [],
   "source": []
  }
 ],
 "metadata": {
  "kernelspec": {
   "display_name": "Python 3",
   "language": "python",
   "name": "python3"
  },
  "language_info": {
   "codemirror_mode": {
    "name": "ipython",
    "version": 3
   },
   "file_extension": ".py",
   "mimetype": "text/x-python",
   "name": "python",
   "nbconvert_exporter": "python",
   "pygments_lexer": "ipython3",
   "version": "3.8.5"
  }
 },
 "nbformat": 4,
 "nbformat_minor": 4
}
