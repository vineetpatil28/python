{
 "cells": [
  {
   "cell_type": "code",
   "execution_count": 4,
   "metadata": {},
   "outputs": [
    {
     "name": "stdout",
     "output_type": "stream",
     "text": [
      "Enter first number: 10\n",
      "Enter second number: 10\n",
      "Addition of two number: 20\n",
      "subtraction of two number: 0\n",
      "multiplication of two number: 100\n",
      "division of two number: 1.0\n"
     ]
    }
   ],
   "source": [
    "num1 = int(input(\"Enter first number: \"))\n",
    "num2 = int(input(\"Enter second number: \"))\n",
    "\n",
    "add = num1 + num2 \n",
    "print(\"Addition of two number:\",add)\n",
    "sub = num1 - num2 \n",
    "print(\"subtraction of two number:\",sub)\n",
    "mul = num1 * num2 \n",
    "print(\"multiplication of two number:\",mul)\n",
    "div = num1 / num2 \n",
    "print(\"division of two number:\",div)"
   ]
  },
  {
   "cell_type": "code",
   "execution_count": null,
   "metadata": {},
   "outputs": [],
   "source": []
  }
 ],
 "metadata": {
  "kernelspec": {
   "display_name": "Python 3",
   "language": "python",
   "name": "python3"
  },
  "language_info": {
   "codemirror_mode": {
    "name": "ipython",
    "version": 3
   },
   "file_extension": ".py",
   "mimetype": "text/x-python",
   "name": "python",
   "nbconvert_exporter": "python",
   "pygments_lexer": "ipython3",
   "version": "3.8.5"
  }
 },
 "nbformat": 4,
 "nbformat_minor": 4
}
