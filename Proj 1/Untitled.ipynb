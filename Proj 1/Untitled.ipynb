{
 "cells": [
  {
   "cell_type": "code",
   "execution_count": 2,
   "metadata": {},
   "outputs": [
    {
     "name": "stdout",
     "output_type": "stream",
     "text": [
      "Enter your basic pay: 10000\n",
      "Basic pay = 10000\n",
      "Total Salary = 11500.0\n",
      "Salary Payable is = 11270.0\n"
     ]
    }
   ],
   "source": [
    "basic_pay = int(input(\"Enter your basic pay: \")) \n",
    "print(\"Basic pay =\",basic_pay)\n",
    "hra = basic_pay*0.1    \n",
    "ta = basic_pay*0.05    \n",
    "total_salary = basic_pay + hra + ta\n",
    "print(\"Total Salary =\",total_salary)\n",
    "professional_tax = total_salary*0.02 \n",
    "salary_payable = total_salary - professional_tax\n",
    "print(\"Salary Payable is =\",salary_payable)  \n"
   ]
  },
  {
   "cell_type": "code",
   "execution_count": 4,
   "metadata": {},
   "outputs": [
    {
     "ename": "IndentationError",
     "evalue": "unexpected indent (<ipython-input-4-f23e217dd6f5>, line 5)",
     "output_type": "error",
     "traceback": [
      "\u001b[1;36m  File \u001b[1;32m\"<ipython-input-4-f23e217dd6f5>\"\u001b[1;36m, line \u001b[1;32m5\u001b[0m\n\u001b[1;33m    hra = basic_pay*0.1\u001b[0m\n\u001b[1;37m    ^\u001b[0m\n\u001b[1;31mIndentationError\u001b[0m\u001b[1;31m:\u001b[0m unexpected indent\n"
     ]
    }
   ],
   "source": [
    "basic_pay = int(input(\"Enter your basic pay: \")) \n",
    "\n",
    " hra = basic_pay*0.1\n",
    " print(\"HRA:\",hra)\n",
    " ta = basic_pay*0.05   \n",
    " print(\"TA:\",ta)\n",
    " total_salary = basic_pay + hra + ta   \n",
    " professional_tax = total_salary*0.02 \n",
    " salary_payable = total_salary - professional_tax\n",
    " print(\"Salary Payable is\",salary_payable)  \n"
   ]
  }
 ],
 "metadata": {
  "kernelspec": {
   "display_name": "Python 3",
   "language": "python",
   "name": "python3"
  },
  "language_info": {
   "codemirror_mode": {
    "name": "ipython",
    "version": 3
   },
   "file_extension": ".py",
   "mimetype": "text/x-python",
   "name": "python",
   "nbconvert_exporter": "python",
   "pygments_lexer": "ipython3",
   "version": "3.8.5"
  }
 },
 "nbformat": 4,
 "nbformat_minor": 4
}
