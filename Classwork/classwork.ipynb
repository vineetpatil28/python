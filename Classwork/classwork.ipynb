{
 "cells": [
  {
   "cell_type": "code",
   "execution_count": 2,
   "metadata": {},
   "outputs": [
    {
     "name": "stdout",
     "output_type": "stream",
     "text": [
      "Enter a number: 371\n",
      "371 is an Armstrong number\n"
     ]
    }
   ],
   "source": [
    "i = int(input(\"Enter a number: \"))\n",
    "sum = 0\n",
    "origl = i\n",
    "while (i > 0):\n",
    "    sum = sum + (i % 10)*(i % 10)*(i % 10)\n",
    "    i = i // 10\n",
    "if origl == sum:\n",
    "    print(origl,\"is an Armstrong number\")\n",
    "else:\n",
    "    print(origl,\"is not an Armstrong number\")"
   ]
  },
  {
   "cell_type": "code",
   "execution_count": null,
   "metadata": {},
   "outputs": [],
   "source": [
    "#to accept a number as user input and display tha revarce of orignal\n"
   ]
  },
  {
   "cell_type": "code",
   "execution_count": 7,
   "metadata": {},
   "outputs": [
    {
     "name": "stdout",
     "output_type": "stream",
     "text": [
      "Enter a number: 12369\n",
      "96321"
     ]
    }
   ],
   "source": [
    "i = int(input(\"Enter a number: \"))\n",
    "r=0\n",
    "sum = 0\n",
    "while(i>0):\n",
    "    r = i % 10\n",
    "    sum = sum * 10 + r\n",
    "    i = i // 10\n",
    "    print(r,end=\"\")"
   ]
  },
  {
   "cell_type": "code",
   "execution_count": 8,
   "metadata": {},
   "outputs": [],
   "source": [
    "def compare(n1, n2):\n",
    "    if (n1==n2):\n",
    "        print(\"Numbers are Equal\")\n",
    "    else:\n",
    "        print(\"Numbers are not Equal\")"
   ]
  },
  {
   "cell_type": "code",
   "execution_count": 9,
   "metadata": {},
   "outputs": [
    {
     "name": "stdout",
     "output_type": "stream",
     "text": [
      "Enter 1st number7\n",
      "Enter 2nd number7\n",
      "Numbers are Equal\n"
     ]
    }
   ],
   "source": [
    "num1 = input(\"Enter 1st number\")\n",
    "num2 = input(\"Enter 2nd number\")\n",
    "compare(num1, num2)"
   ]
  },
  {
   "cell_type": "code",
   "execution_count": null,
   "metadata": {},
   "outputs": [],
   "source": []
  }
 ],
 "metadata": {
  "kernelspec": {
   "display_name": "Python 3",
   "language": "python",
   "name": "python3"
  },
  "language_info": {
   "codemirror_mode": {
    "name": "ipython",
    "version": 3
   },
   "file_extension": ".py",
   "mimetype": "text/x-python",
   "name": "python",
   "nbconvert_exporter": "python",
   "pygments_lexer": "ipython3",
   "version": "3.8.5"
  }
 },
 "nbformat": 4,
 "nbformat_minor": 4
}
