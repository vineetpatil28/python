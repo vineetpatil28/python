{
 "cells": [
  {
   "cell_type": "code",
   "execution_count": 1,
   "metadata": {},
   "outputs": [
    {
     "name": "stdout",
     "output_type": "stream",
     "text": [
      "welcome\n"
     ]
    }
   ],
   "source": [
    "print(\"welcome\")"
   ]
  },
  {
   "cell_type": "code",
   "execution_count": 2,
   "metadata": {},
   "outputs": [
    {
     "name": "stdout",
     "output_type": "stream",
     "text": [
      "The sum of 1.5 and 6.3 is 7.8\n"
     ]
    }
   ],
   "source": [
    "num1 = 1.5 \n",
    "num2 = 6.3 \n",
    "sum = num1 + num2 \n",
    "print(\"The sum of {0} and {1} is {2}\". format(num1, num2, sum))\n"
   ]
  },
  {
   "cell_type": "code",
   "execution_count": 3,
   "metadata": {},
   "outputs": [
    {
     "name": "stdout",
     "output_type": "stream",
     "text": [
      "The sum of 97 and 3 is 100\n"
     ]
    }
   ],
   "source": [
    "num1 = 97 \n",
    "num2 =  3\n",
    "sum = num1 + num2 \n",
    "print(\"The sum of {0} and {1} is {2}\". format(num1, num2, sum))\n"
   ]
  },
  {
   "cell_type": "code",
   "execution_count": 4,
   "metadata": {},
   "outputs": [
    {
     "name": "stdout",
     "output_type": "stream",
     "text": [
      "Enter value of a\n",
      "10\n",
      "Entar value of b\n",
      "20\n",
      "Addition of 10 and 20 is 30\n"
     ]
    }
   ],
   "source": [
    "print(\"Enter value of a\")\n",
    "a = int(input())\n",
    "print(\"Entar value of b\")\n",
    "b = int(input())\n",
    "sum = a + b \n",
    "print(\"Addition of\", a, \"and\", b,\"is\",sum)\n"
   ]
  },
  {
   "cell_type": "code",
   "execution_count": 5,
   "metadata": {},
   "outputs": [
    {
     "name": "stdout",
     "output_type": "stream",
     "text": [
      "Enter value of a10\n",
      "Entar value of b20\n",
      "Addition of 10 and 20 is 30\n"
     ]
    }
   ],
   "source": [
    "a = int(input(\"Enter value of a\"))\n",
    "b = int(input(\"Entar value of b\"))\n",
    "sum = a + b \n",
    "print(\"Addition of\", a, \"and\", b,\"is\",sum)"
   ]
  },
  {
   "cell_type": "code",
   "execution_count": 7,
   "metadata": {},
   "outputs": [
    {
     "name": "stdout",
     "output_type": "stream",
     "text": [
      "Enter value of a10\n",
      "Entar value of b1\n",
      "Multiplication of 10 and 1 is 10\n"
     ]
    }
   ],
   "source": [
    "a = int(input(\"Enter value of a\"))\n",
    "b = int(input(\"Entar value of b\"))\n",
    "mul = a * b \n",
    "print(\"Multiplication of\", a, \"and\", b,\"is\",mul)"
   ]
  },
  {
   "cell_type": "code",
   "execution_count": null,
   "metadata": {},
   "outputs": [],
   "source": []
  }
 ],
 "metadata": {
  "kernelspec": {
   "display_name": "Python 3",
   "language": "python",
   "name": "python3"
  },
  "language_info": {
   "codemirror_mode": {
    "name": "ipython",
    "version": 3
   },
   "file_extension": ".py",
   "mimetype": "text/x-python",
   "name": "python",
   "nbconvert_exporter": "python",
   "pygments_lexer": "ipython3",
   "version": "3.8.5"
  }
 },
 "nbformat": 4,
 "nbformat_minor": 4
}
