{
 "cells": [
  {
   "cell_type": "code",
   "execution_count": 1,
   "metadata": {},
   "outputs": [
    {
     "name": "stdout",
     "output_type": "stream",
     "text": [
      "Enter Marks of sub1:56\n",
      "Enter Marks of sub2:22\n",
      "Enter Marks of sub3:88\n",
      "Enter Marks of sub4:69\n",
      "Enter Marks of sub5:333\n",
      "Failed\n"
     ]
    }
   ],
   "source": [
    "sub1 = int(input(\"Enter Marks of sub1:\"))\n",
    "sub2 = int(input(\"Enter Marks of sub2:\"))\n",
    "sub3 = int(input(\"Enter Marks of sub3:\"))\n",
    "sub4 = int(input(\"Enter Marks of sub4:\"))\n",
    "sub5 = int(input(\"Enter Marks of sub5:\"))\n",
    "if ((sub1>40) and (sub2 >40) and (sub3>40) and (sub4>40) and (sub5>40)):\n",
    "    print(\"Student is Pass\")\n",
    "    avg = (sub1 + sub2 + sub3 + sub4 +  sub5)/5\n",
    "    if (avg > 75):\n",
    "        print(\"distinction\",avg)\n",
    "    elif ((avg>= 60) and (75> avg)):\n",
    "        print(\"First Division\",avg)\n",
    "    elif ((avg >= 50) and (60> avg)):\n",
    "        print(\"Second Division\",avg)\n",
    "    else: \n",
    "        print(\"Third Division\",avg)\n",
    "else:\n",
    "    print(\"Failed\")"
   ]
  },
  {
   "cell_type": "code",
   "execution_count": null,
   "metadata": {},
   "outputs": [],
   "source": []
  },
  {
   "cell_type": "code",
   "execution_count": null,
   "metadata": {},
   "outputs": [],
   "source": []
  }
 ],
 "metadata": {
  "kernelspec": {
   "display_name": "Python 3",
   "language": "python",
   "name": "python3"
  },
  "language_info": {
   "codemirror_mode": {
    "name": "ipython",
    "version": 3
   },
   "file_extension": ".py",
   "mimetype": "text/x-python",
   "name": "python",
   "nbconvert_exporter": "python",
   "pygments_lexer": "ipython3",
   "version": "3.8.5"
  }
 },
 "nbformat": 4,
 "nbformat_minor": 4
}
