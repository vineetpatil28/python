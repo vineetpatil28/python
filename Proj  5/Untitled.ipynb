{
 "cells": [
  {
   "cell_type": "code",
   "execution_count": 18,
   "metadata": {},
   "outputs": [
    {
     "name": "stdout",
     "output_type": "stream",
     "text": [
      "Enter a string: vineet\n",
      "\n",
      "Length of the input string is: 6\n",
      "\n",
      "It's not Palindrome\n",
      "\n",
      "Reversed String:  teeniv\n",
      "Enter the Second String: \n",
      "patil\n",
      "\n",
      "Strings are Not Equal\n"
     ]
    },
    {
     "ename": "TypeError",
     "evalue": "must be str, not bool",
     "output_type": "error",
     "traceback": [
      "\u001b[1;31m---------------------------------------------------------------------------\u001b[0m",
      "\u001b[1;31mTypeError\u001b[0m                                 Traceback (most recent call last)",
      "\u001b[1;32m<ipython-input-18-b44a18685de8>\u001b[0m in \u001b[0;36m<module>\u001b[1;34m\u001b[0m\n\u001b[0;32m     43\u001b[0m \u001b[1;33m\u001b[0m\u001b[0m\n\u001b[0;32m     44\u001b[0m \u001b[1;33m\u001b[0m\u001b[0m\n\u001b[1;32m---> 45\u001b[1;33m \u001b[1;32mif\u001b[0m\u001b[1;33m(\u001b[0m\u001b[0ms1\u001b[0m\u001b[1;33m.\u001b[0m\u001b[0mfind\u001b[0m\u001b[1;33m(\u001b[0m\u001b[0ms2\u001b[0m\u001b[1;33m)\u001b[0m\u001b[1;33m==\u001b[0m\u001b[1;33m-\u001b[0m\u001b[1;36m1\u001b[0m\u001b[1;33m)\u001b[0m\u001b[1;33m:\u001b[0m\u001b[1;33m\u001b[0m\u001b[1;33m\u001b[0m\u001b[0m\n\u001b[0m\u001b[0;32m     46\u001b[0m       \u001b[0mprint\u001b[0m\u001b[1;33m(\u001b[0m\u001b[1;34m\"Substring not found in string!\"\u001b[0m\u001b[1;33m)\u001b[0m\u001b[1;33m\u001b[0m\u001b[1;33m\u001b[0m\u001b[0m\n\u001b[0;32m     47\u001b[0m \u001b[1;32melse\u001b[0m\u001b[1;33m:\u001b[0m\u001b[1;33m\u001b[0m\u001b[1;33m\u001b[0m\u001b[0m\n",
      "\u001b[1;31mTypeError\u001b[0m: must be str, not bool"
     ]
    }
   ],
   "source": [
    "str = input(\"Enter a string: \")\n",
    "counter = 0\n",
    "for s in str:\n",
    "      counter = counter+1\n",
    "print(\"\\nLength of the input string is:\", counter)\n",
    "\n",
    "def Palindrome(str):\n",
    "    return str == str[::-1]\n",
    "s2 = Palindrome(str)\n",
    " \n",
    "if s2:\n",
    "    print(\"it's Palindrome\")\n",
    "else:\n",
    "    print(\"\\nIt's not Palindrome\")\n",
    "    \n",
    "def reverse(str):\n",
    "    s = \"\"\n",
    "    for ch in str:\n",
    "        s = ch + s\n",
    "    return s\n",
    "print(\"\\nReversed String: \", reverse(str))\n",
    "\n",
    "print(\"Enter the Second String: \")\n",
    "str2 = input()\n",
    "\n",
    "len1 = len(str)\n",
    "len2 = len(str2)\n",
    "\n",
    "if len1==len2:\n",
    "    i = 0\n",
    "    chk = 0\n",
    "    while i<len1:\n",
    "        if str[i] != str2[i]:\n",
    "            chk = 1\n",
    "            break\n",
    "        i = i+1\n",
    "    if chk==0:\n",
    "        print(\"\\nStrings are Equal\")\n",
    "    else:\n",
    "        print(\"\\nStrings are Not Equal\")\n",
    "else:\n",
    "    print(\"\\nStrings are Not Equal\")\n",
    "\n",
    "\n",
    "if(str.find(s2)==-1):\n",
    "      print(\"Substring not found in string!\")\n",
    "else:\n",
    "      print(\"Substring in string!\")"
   ]
  },
  {
   "cell_type": "code",
   "execution_count": 2,
   "metadata": {},
   "outputs": [
    {
     "name": "stdout",
     "output_type": "stream",
     "text": [
      "vineet\n",
      "It's not Palindrome\n"
     ]
    }
   ],
   "source": [
    "def Palindrome(s1):\n",
    "    return s1 == s1[::-1]\n",
    "s1 = input()\n",
    "s2 = Palindrome(s1)\n",
    " \n",
    "if s2:\n",
    "    print(\"it's Palindrome\")\n",
    "else:\n",
    "    print(\"It's not Palindrome\")"
   ]
  },
  {
   "cell_type": "code",
   "execution_count": null,
   "metadata": {},
   "outputs": [],
   "source": [
    "def reverse(str):\n",
    "    s = \"\"\n",
    "    for ch in str:\n",
    "        s = ch + s\n",
    "    return s\n",
    "mystr = input()\n",
    "print(\"Reversed String: \", reverse(mystr))"
   ]
  },
  {
   "cell_type": "code",
   "execution_count": 11,
   "metadata": {},
   "outputs": [
    {
     "name": "stdout",
     "output_type": "stream",
     "text": [
      "Enter the First String: \n",
      "vineet\n",
      "Enter the Second String: \n",
      "patil\n",
      "\n",
      "Strings are Not Equal\n"
     ]
    }
   ],
   "source": [
    "print(\"Enter the First String: \")\n",
    "strOne = input()\n",
    "print(\"Enter the Second String: \")\n",
    "strTwo = input()\n",
    "\n",
    "lenOne = len(strOne)\n",
    "lenTwo = len(strTwo)\n",
    "\n",
    "if lenOne==lenTwo:\n",
    "    i = 0\n",
    "    chk = 0\n",
    "    while i<lenOne:\n",
    "        if strOne[i] != strTwo[i]:\n",
    "            chk = 1\n",
    "            break\n",
    "        i = i+1\n",
    "    if chk==0:\n",
    "        print(\"\\nStrings are Equal\")\n",
    "    else:\n",
    "        print(\"\\nStrings are Not Equal\")\n",
    "else:\n",
    "    print(\"\\nStrings are Not Equal\")"
   ]
  },
  {
   "cell_type": "code",
   "execution_count": null,
   "metadata": {},
   "outputs": [],
   "source": []
  }
 ],
 "metadata": {
  "kernelspec": {
   "display_name": "Python 3",
   "language": "python",
   "name": "python3"
  },
  "language_info": {
   "codemirror_mode": {
    "name": "ipython",
    "version": 3
   },
   "file_extension": ".py",
   "mimetype": "text/x-python",
   "name": "python",
   "nbconvert_exporter": "python",
   "pygments_lexer": "ipython3",
   "version": "3.8.5"
  }
 },
 "nbformat": 4,
 "nbformat_minor": 4
}
